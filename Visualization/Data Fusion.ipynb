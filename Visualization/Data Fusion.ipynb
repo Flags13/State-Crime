{
 "cells": [
  {
   "cell_type": "code",
   "execution_count": 4,
   "metadata": {},
   "outputs": [],
   "source": [
    "import xlrd\n",
    "import numpy as np\n",
    "import pandas as pd\n",
    "import pickle"
   ]
  },
  {
   "cell_type": "code",
   "execution_count": 5,
   "metadata": {},
   "outputs": [],
   "source": [
    "with open('C:/Users/Flags/Desktop/State Crime/Scraping/names.pickle', 'rb') as f:\n",
    "    names = pickle.load(f)"
   ]
  },
  {
   "cell_type": "code",
   "execution_count": 16,
   "metadata": {},
   "outputs": [
    {
     "name": "stdout",
     "output_type": "stream",
     "text": [
      "['Abasolo', 'Agualeguas', 'Allende', 'Anáhuac', 'Apodaca', 'Aramberri', 'Benito Juárez', 'Bustamante', 'Cadereyta Jiménez', 'Cerralvo', 'China', 'Ciénega de Flores', 'Doctor Arroyo', 'Doctor Coss', 'Doctor González', 'El Carmen', 'Galeana', 'García', 'General Bravo', 'General Escobedo', 'General Terán', 'General Treviño', 'General Zaragoza', 'General Zuazua', 'Guadalupe', 'Hidalgo', 'Higueras', 'Hualahuises', 'Iturbide', 'Lampazos de Naranjo', 'Linares', 'Los Aldamas', 'Los Herreras', 'Los Ramones', 'Marín', 'Melchor Ocampo', 'Mier y Noriega', 'Mina', 'Montemorelos', 'Monterrey', 'Parás', 'Pesquería', 'Rayones', 'Sabinas Hidalgo', 'Salinas Victoria', 'San Nicolás de los Garza', 'San Pedro Garza García', 'Santa Catarina', 'Santiago', 'Vallecillo', 'Villaldama']\n"
     ]
    }
   ],
   "source": [
    "print(names)\n",
    "del names[39]"
   ]
  },
  {
   "cell_type": "code",
   "execution_count": 17,
   "metadata": {},
   "outputs": [
    {
     "name": "stdout",
     "output_type": "stream",
     "text": [
      "Abasolo\n",
      "['2019', '2018', '2017']\n",
      "Agualeguas\n",
      "['2019', '2018', '2017']\n",
      "Allende\n",
      "['2019', '2018', '2017']\n",
      "Anáhuac\n",
      "['2019', '2018', '2017']\n",
      "Apodaca\n",
      "['2019', '2018', '2017']\n",
      "Aramberri\n",
      "['2019', '2018', '2017']\n",
      "Benito Juárez\n",
      "['2019', '2018', '2017']\n",
      "Bustamante\n",
      "['2019', '2018', '2017']\n",
      "Cadereyta Jiménez\n",
      "['2019', '2018', '2017']\n",
      "Cerralvo\n",
      "['2019', '2018', '2017']\n",
      "China\n",
      "['2019', '2018', '2017']\n",
      "Ciénega de Flores\n",
      "['2019', '2018', '2017']\n",
      "Doctor Arroyo\n",
      "['2019', '2018', '2017']\n",
      "Doctor Coss\n",
      "['2019', '2018', '2017']\n",
      "Doctor González\n",
      "['2019', '2018', '2017']\n",
      "El Carmen\n",
      "['2019', '2018', '2017']\n",
      "Galeana\n",
      "['2019', '2018', '2017']\n",
      "García\n",
      "['2019', '2018', '2017']\n",
      "General Bravo\n",
      "['2019', '2018', '2017']\n",
      "General Escobedo\n",
      "['2019', '2018', '2017']\n",
      "General Terán\n",
      "['2019', '2018', '2017']\n",
      "General Treviño\n",
      "['2019', '2018', '2017']\n",
      "General Zaragoza\n",
      "['2019', '2018', '2017']\n",
      "General Zuazua\n",
      "['2019', '2018', '2017']\n",
      "Guadalupe\n",
      "['2019', '2018', '2017']\n",
      "Hidalgo\n",
      "['2019', '2018', '2017']\n",
      "Higueras\n",
      "['2019', '2018', '2017']\n",
      "Hualahuises\n",
      "['2019', '2018', '2017']\n",
      "Iturbide\n",
      "['2019', '2018', '2017']\n",
      "Lampazos de Naranjo\n",
      "['2019', '2018', '2017']\n",
      "Linares\n",
      "['2019', '2018', '2017']\n",
      "Los Aldamas\n",
      "['2019', '2018', '2017']\n",
      "Los Herreras\n",
      "['2019', '2018', '2017']\n",
      "Los Ramones\n",
      "['2019', '2018', '2017']\n",
      "Marín\n",
      "['2019', '2018', '2017']\n",
      "Melchor Ocampo\n",
      "['2019', '2018', '2017']\n",
      "Mier y Noriega\n",
      "['2019', '2018', '2017']\n",
      "Mina\n",
      "['2019', '2018', '2017']\n",
      "Montemorelos\n",
      "['2019', '2018', '2017']\n",
      "Parás\n",
      "['2019', '2018', '2017']\n",
      "Pesquería\n",
      "['2019', '2018', '2017']\n",
      "Rayones\n",
      "['2019', '2018', '2017']\n",
      "Sabinas Hidalgo\n",
      "['2019', '2018', '2017']\n",
      "Salinas Victoria\n",
      "['2019', '2018', '2017']\n",
      "San Nicolás de los Garza\n",
      "['2019', '2018', '2017']\n",
      "San Pedro Garza García\n",
      "['2019', '2018', '2017']\n",
      "Santa Catarina\n",
      "['2019', '2018', '2017']\n",
      "Santiago\n",
      "['2019', '2018', '2017']\n",
      "Vallecillo\n",
      "['2019', '2018', '2017']\n",
      "Villaldama\n",
      "['2019', '2018', '2017']\n"
     ]
    }
   ],
   "source": [
    "for name in names:\n",
    "    xls = xlrd.open_workbook(r'/Users/Flags/Desktop/State Crime/Dataset/Excels/' + name + '.xlsx', on_demand=True)\n",
    "    print(name)\n",
    "    print(xls.sheet_names()) # <- remeber: xlrd sheet_names is a function, not a property"
   ]
  }
 ],
 "metadata": {
  "kernelspec": {
   "display_name": "Python 3",
   "language": "python",
   "name": "python3"
  },
  "language_info": {
   "codemirror_mode": {
    "name": "ipython",
    "version": 3
   },
   "file_extension": ".py",
   "mimetype": "text/x-python",
   "name": "python",
   "nbconvert_exporter": "python",
   "pygments_lexer": "ipython3",
   "version": "3.7.3"
  }
 },
 "nbformat": 4,
 "nbformat_minor": 2
}
